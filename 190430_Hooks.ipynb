{
 "cells": [
  {
   "cell_type": "code",
   "execution_count": 1,
   "metadata": {
    "ExecuteTime": {
     "end_time": "2019-05-01T19:04:19.163973Z",
     "start_time": "2019-05-01T19:04:19.155008Z"
    }
   },
   "outputs": [
    {
     "data": {
      "text/plain": [
       "'/Users/Bixing/Google Drive (by783@nyu.edu)/NYU_Courses/Sem2_DL_Proj/DL19_Final_Project'"
      ]
     },
     "execution_count": 1,
     "metadata": {},
     "output_type": "execute_result"
    }
   ],
   "source": [
    "%pwd"
   ]
  },
  {
   "cell_type": "code",
   "execution_count": 2,
   "metadata": {
    "ExecuteTime": {
     "end_time": "2019-05-01T19:04:19.574775Z",
     "start_time": "2019-05-01T19:04:19.165873Z"
    }
   },
   "outputs": [],
   "source": [
    "\n",
    "import torch\n",
    "import torch.nn as nn\n",
    "import torchvision"
   ]
  },
  {
   "cell_type": "code",
   "execution_count": 3,
   "metadata": {
    "ExecuteTime": {
     "end_time": "2019-05-01T19:04:19.582513Z",
     "start_time": "2019-05-01T19:04:19.577372Z"
    }
   },
   "outputs": [],
   "source": [
    "class TEST(torch.nn.Module):\n",
    "    def __init__(self):\n",
    "        super(TEST, self).__init__()\n",
    "        self.encoder=nn.Sequential(nn.Linear(1,1))\n",
    "        self.decoder=nn.Sequential(nn.Linear(1,1))\n",
    "        \n",
    "    def forward(self,x):\n",
    "        x=self.encoder(x)\n",
    "        x=self.decoder(x)\n",
    "        return x\n",
    "\n",
    "def Get_features(self, _input, _output):\n",
    "    print('print: input:',_input)\n",
    "    print('print: output:',_output)\n",
    "    #return output\n",
    "\n",
    "def Get_encoder_features(self, input_, output_):\n",
    "    encoder_output.append(output_)"
   ]
  },
  {
   "cell_type": "code",
   "execution_count": 4,
   "metadata": {
    "ExecuteTime": {
     "end_time": "2019-05-01T19:04:19.588209Z",
     "start_time": "2019-05-01T19:04:19.585276Z"
    }
   },
   "outputs": [],
   "source": [
    "x=torch.tensor([[1.0]])"
   ]
  },
  {
   "cell_type": "code",
   "execution_count": 5,
   "metadata": {
    "ExecuteTime": {
     "end_time": "2019-05-01T19:04:19.594687Z",
     "start_time": "2019-05-01T19:04:19.589702Z"
    }
   },
   "outputs": [],
   "source": [
    "model=TEST()\n",
    "\n",
    "# 如何重设 layer\n",
    "# https://discuss.pytorch.org/t/load-initial-weights-to-one-layer-of-the-convnet-manually/13336\n",
    "model.encoder[0].weight.data = torch.tensor([[2.0]])\n",
    "model.encoder[0].bias.data=torch.tensor([[0.0]])\n",
    "\n",
    "\n",
    "model.decoder[0].weight.data = torch.tensor([[3.0]])\n",
    "model.decoder[0].bias.data=torch.tensor([[0.0]])"
   ]
  },
  {
   "cell_type": "code",
   "execution_count": 6,
   "metadata": {
    "ExecuteTime": {
     "end_time": "2019-05-01T19:04:19.599572Z",
     "start_time": "2019-05-01T19:04:19.596175Z"
    }
   },
   "outputs": [
    {
     "data": {
      "text/plain": [
       "<torch.utils.hooks.RemovableHandle at 0x12015b1d0>"
      ]
     },
     "execution_count": 6,
     "metadata": {},
     "output_type": "execute_result"
    }
   ],
   "source": [
    "encoder_output=[]\n",
    "model.encoder[0].register_forward_hook(Get_encoder_features)"
   ]
  },
  {
   "cell_type": "code",
   "execution_count": 7,
   "metadata": {
    "ExecuteTime": {
     "end_time": "2019-05-01T19:04:19.603695Z",
     "start_time": "2019-05-01T19:04:19.600843Z"
    }
   },
   "outputs": [],
   "source": [
    "l=model(x)"
   ]
  },
  {
   "cell_type": "code",
   "execution_count": 8,
   "metadata": {
    "ExecuteTime": {
     "end_time": "2019-05-01T19:04:19.609473Z",
     "start_time": "2019-05-01T19:04:19.604997Z"
    }
   },
   "outputs": [
    {
     "data": {
      "text/plain": [
       "[tensor([[2.]], grad_fn=<AddmmBackward>)]"
      ]
     },
     "execution_count": 8,
     "metadata": {},
     "output_type": "execute_result"
    }
   ],
   "source": [
    "encoder_output"
   ]
  },
  {
   "cell_type": "code",
   "execution_count": 9,
   "metadata": {
    "ExecuteTime": {
     "end_time": "2019-05-01T19:04:19.613082Z",
     "start_time": "2019-05-01T19:04:19.610701Z"
    }
   },
   "outputs": [],
   "source": [
    "l.backward()"
   ]
  },
  {
   "cell_type": "code",
   "execution_count": 10,
   "metadata": {
    "ExecuteTime": {
     "end_time": "2019-05-01T19:04:19.618323Z",
     "start_time": "2019-05-01T19:04:19.614519Z"
    }
   },
   "outputs": [
    {
     "data": {
      "text/plain": [
       "tensor([[3.]])"
      ]
     },
     "execution_count": 10,
     "metadata": {},
     "output_type": "execute_result"
    }
   ],
   "source": [
    "model.encoder[0].weight.grad"
   ]
  },
  {
   "cell_type": "code",
   "execution_count": 11,
   "metadata": {
    "ExecuteTime": {
     "end_time": "2019-05-01T19:04:19.623549Z",
     "start_time": "2019-05-01T19:04:19.619649Z"
    }
   },
   "outputs": [
    {
     "data": {
      "text/plain": [
       "tensor([[2.]])"
      ]
     },
     "execution_count": 11,
     "metadata": {},
     "output_type": "execute_result"
    }
   ],
   "source": [
    "model.decoder[0].weight.grad"
   ]
  },
  {
   "cell_type": "code",
   "execution_count": null,
   "metadata": {
    "ExecuteTime": {
     "end_time": "2019-05-01T18:46:33.117785Z",
     "start_time": "2019-05-01T18:46:33.113526Z"
    }
   },
   "outputs": [],
   "source": []
  },
  {
   "cell_type": "code",
   "execution_count": 12,
   "metadata": {
    "ExecuteTime": {
     "end_time": "2019-05-01T19:04:19.629065Z",
     "start_time": "2019-05-01T19:04:19.624955Z"
    }
   },
   "outputs": [],
   "source": [
    "model2=TEST()\n",
    "\n",
    "# 如何重设 layer\n",
    "# https://discuss.pytorch.org/t/load-initial-weights-to-one-layer-of-the-convnet-manually/13336\n",
    "model2.encoder[0].weight.data = torch.tensor([[2.0]])\n",
    "model2.encoder[0].bias.data=torch.tensor([[0.0]])\n",
    "\n",
    "\n",
    "model2.decoder[0].weight.data = torch.tensor([[3.0]])\n",
    "model2.decoder[0].bias.data=torch.tensor([[0.0]])"
   ]
  },
  {
   "cell_type": "code",
   "execution_count": 13,
   "metadata": {
    "ExecuteTime": {
     "end_time": "2019-05-01T19:04:19.633755Z",
     "start_time": "2019-05-01T19:04:19.630395Z"
    }
   },
   "outputs": [
    {
     "data": {
      "text/plain": [
       "<torch.utils.hooks.RemovableHandle at 0x1201691d0>"
      ]
     },
     "execution_count": 13,
     "metadata": {},
     "output_type": "execute_result"
    }
   ],
   "source": [
    "encoder_output=[]\n",
    "model2.encoder[0].register_forward_hook(Get_encoder_features)"
   ]
  },
  {
   "cell_type": "code",
   "execution_count": 14,
   "metadata": {
    "ExecuteTime": {
     "end_time": "2019-05-01T19:04:19.637440Z",
     "start_time": "2019-05-01T19:04:19.634977Z"
    }
   },
   "outputs": [],
   "source": [
    "l=model2(x)"
   ]
  },
  {
   "cell_type": "code",
   "execution_count": 15,
   "metadata": {
    "ExecuteTime": {
     "end_time": "2019-05-01T19:04:19.641408Z",
     "start_time": "2019-05-01T19:04:19.638959Z"
    }
   },
   "outputs": [],
   "source": [
    "l=l+encoder_output[0]"
   ]
  },
  {
   "cell_type": "code",
   "execution_count": 16,
   "metadata": {
    "ExecuteTime": {
     "end_time": "2019-05-01T19:04:19.645659Z",
     "start_time": "2019-05-01T19:04:19.643038Z"
    }
   },
   "outputs": [],
   "source": [
    "l.backward()"
   ]
  },
  {
   "cell_type": "code",
   "execution_count": 17,
   "metadata": {
    "ExecuteTime": {
     "end_time": "2019-05-01T19:04:19.655476Z",
     "start_time": "2019-05-01T19:04:19.651607Z"
    }
   },
   "outputs": [
    {
     "data": {
      "text/plain": [
       "tensor([[4.]])"
      ]
     },
     "execution_count": 17,
     "metadata": {},
     "output_type": "execute_result"
    }
   ],
   "source": [
    "model2.encoder[0].weight.grad"
   ]
  },
  {
   "cell_type": "code",
   "execution_count": 18,
   "metadata": {
    "ExecuteTime": {
     "end_time": "2019-05-01T19:04:19.665213Z",
     "start_time": "2019-05-01T19:04:19.660386Z"
    }
   },
   "outputs": [
    {
     "data": {
      "text/plain": [
       "tensor([[2.]])"
      ]
     },
     "execution_count": 18,
     "metadata": {},
     "output_type": "execute_result"
    }
   ],
   "source": [
    "model2.decoder[0].weight.grad"
   ]
  },
  {
   "cell_type": "markdown",
   "metadata": {},
   "source": [
    "# the hook works, can extract the layer vaild layer output ('True' layer output, which remember its position in the computational graph and correctly calculate the grad) "
   ]
  },
  {
   "cell_type": "code",
   "execution_count": null,
   "metadata": {
    "ExecuteTime": {
     "end_time": "2019-05-01T19:03:37.700786Z",
     "start_time": "2019-05-01T19:03:37.697567Z"
    }
   },
   "outputs": [],
   "source": []
  },
  {
   "cell_type": "code",
   "execution_count": 19,
   "metadata": {
    "ExecuteTime": {
     "end_time": "2019-05-01T19:04:19.670364Z",
     "start_time": "2019-05-01T19:04:19.666885Z"
    }
   },
   "outputs": [
    {
     "ename": "SystemExit",
     "evalue": "stop here",
     "output_type": "error",
     "traceback": [
      "An exception has occurred, use %tb to see the full traceback.\n",
      "\u001b[0;31mSystemExit\u001b[0m\u001b[0;31m:\u001b[0m stop here\n"
     ]
    },
    {
     "name": "stderr",
     "output_type": "stream",
     "text": [
      "/Users/Bixing/anaconda3/lib/python3.7/site-packages/IPython/core/interactiveshell.py:3275: UserWarning: To exit: use 'exit', 'quit', or Ctrl-D.\n",
      "  warn(\"To exit: use 'exit', 'quit', or Ctrl-D.\", stacklevel=1)\n"
     ]
    }
   ],
   "source": [
    "import sys\n",
    "sys.exit('stop here')"
   ]
  },
  {
   "cell_type": "code",
   "execution_count": null,
   "metadata": {
    "ExecuteTime": {
     "end_time": "2019-05-01T19:02:27.207311Z",
     "start_time": "2019-05-01T19:02:27.064302Z"
    }
   },
   "outputs": [],
   "source": []
  },
  {
   "cell_type": "code",
   "execution_count": null,
   "metadata": {
    "ExecuteTime": {
     "end_time": "2019-05-01T19:04:19.687089Z",
     "start_time": "2019-05-01T19:04:19.175Z"
    }
   },
   "outputs": [],
   "source": [
    "en_output"
   ]
  },
  {
   "cell_type": "code",
   "execution_count": null,
   "metadata": {
    "ExecuteTime": {
     "end_time": "2019-05-01T16:51:38.158785Z",
     "start_time": "2019-05-01T16:51:38.155539Z"
    }
   },
   "outputs": [],
   "source": []
  },
  {
   "cell_type": "code",
   "execution_count": null,
   "metadata": {
    "ExecuteTime": {
     "end_time": "2019-05-01T19:04:19.688167Z",
     "start_time": "2019-05-01T19:04:19.178Z"
    }
   },
   "outputs": [],
   "source": [
    "model.encoder[0].weight.data"
   ]
  },
  {
   "cell_type": "code",
   "execution_count": null,
   "metadata": {
    "ExecuteTime": {
     "end_time": "2019-05-01T16:51:38.167235Z",
     "start_time": "2019-05-01T16:51:38.165616Z"
    }
   },
   "outputs": [],
   "source": []
  },
  {
   "cell_type": "code",
   "execution_count": null,
   "metadata": {
    "ExecuteTime": {
     "end_time": "2019-05-01T16:51:38.171297Z",
     "start_time": "2019-05-01T16:51:38.168872Z"
    }
   },
   "outputs": [],
   "source": []
  },
  {
   "cell_type": "code",
   "execution_count": null,
   "metadata": {
    "ExecuteTime": {
     "end_time": "2019-05-01T16:51:38.175203Z",
     "start_time": "2019-05-01T16:51:38.172586Z"
    }
   },
   "outputs": [],
   "source": []
  },
  {
   "cell_type": "code",
   "execution_count": null,
   "metadata": {
    "ExecuteTime": {
     "end_time": "2019-05-01T16:51:38.179803Z",
     "start_time": "2019-05-01T16:51:38.177013Z"
    }
   },
   "outputs": [],
   "source": []
  },
  {
   "cell_type": "code",
   "execution_count": null,
   "metadata": {
    "ExecuteTime": {
     "end_time": "2019-05-01T16:51:38.183315Z",
     "start_time": "2019-05-01T16:51:38.181016Z"
    }
   },
   "outputs": [],
   "source": []
  },
  {
   "cell_type": "code",
   "execution_count": null,
   "metadata": {
    "ExecuteTime": {
     "end_time": "2019-05-01T19:04:19.689406Z",
     "start_time": "2019-05-01T19:04:19.184Z"
    }
   },
   "outputs": [],
   "source": [
    "l=model(x)"
   ]
  },
  {
   "cell_type": "code",
   "execution_count": null,
   "metadata": {
    "ExecuteTime": {
     "end_time": "2019-05-01T19:04:19.690716Z",
     "start_time": "2019-05-01T19:04:19.186Z"
    }
   },
   "outputs": [],
   "source": [
    "l.backward()"
   ]
  },
  {
   "cell_type": "code",
   "execution_count": null,
   "metadata": {
    "ExecuteTime": {
     "end_time": "2019-05-01T19:04:19.691763Z",
     "start_time": "2019-05-01T19:04:19.187Z"
    }
   },
   "outputs": [],
   "source": [
    "model.decoder[0].weight.grad"
   ]
  },
  {
   "cell_type": "code",
   "execution_count": null,
   "metadata": {
    "ExecuteTime": {
     "end_time": "2019-05-01T19:04:19.693088Z",
     "start_time": "2019-05-01T19:04:19.189Z"
    }
   },
   "outputs": [],
   "source": [
    "de_layer=model.decoder[0]"
   ]
  },
  {
   "cell_type": "code",
   "execution_count": null,
   "metadata": {
    "ExecuteTime": {
     "end_time": "2019-05-01T19:04:19.693901Z",
     "start_time": "2019-05-01T19:04:19.191Z"
    }
   },
   "outputs": [],
   "source": [
    "en_layer=model.encoder[0]"
   ]
  },
  {
   "cell_type": "code",
   "execution_count": null,
   "metadata": {
    "ExecuteTime": {
     "end_time": "2019-05-01T19:04:19.694697Z",
     "start_time": "2019-05-01T19:04:19.193Z"
    }
   },
   "outputs": [],
   "source": [
    "\n",
    "de_layer.register_forward_hook(Get_features)"
   ]
  },
  {
   "cell_type": "code",
   "execution_count": null,
   "metadata": {
    "ExecuteTime": {
     "end_time": "2019-05-01T17:03:27.354305Z",
     "start_time": "2019-05-01T17:03:27.350851Z"
    }
   },
   "outputs": [],
   "source": []
  },
  {
   "cell_type": "code",
   "execution_count": null,
   "metadata": {
    "ExecuteTime": {
     "end_time": "2019-05-01T17:05:11.650477Z",
     "start_time": "2019-05-01T17:05:11.642418Z"
    }
   },
   "outputs": [],
   "source": []
  },
  {
   "cell_type": "code",
   "execution_count": null,
   "metadata": {
    "ExecuteTime": {
     "end_time": "2019-05-01T19:04:19.695392Z",
     "start_time": "2019-05-01T19:04:19.197Z"
    }
   },
   "outputs": [],
   "source": [
    "l=model(x)"
   ]
  },
  {
   "cell_type": "code",
   "execution_count": null,
   "metadata": {},
   "outputs": [],
   "source": []
  },
  {
   "cell_type": "code",
   "execution_count": null,
   "metadata": {},
   "outputs": [],
   "source": []
  }
 ],
 "metadata": {
  "kernelspec": {
   "display_name": "Python 3",
   "language": "python",
   "name": "python3"
  },
  "language_info": {
   "codemirror_mode": {
    "name": "ipython",
    "version": 3
   },
   "file_extension": ".py",
   "mimetype": "text/x-python",
   "name": "python",
   "nbconvert_exporter": "python",
   "pygments_lexer": "ipython3",
   "version": "3.7.2"
  },
  "toc": {
   "base_numbering": 1,
   "nav_menu": {},
   "number_sections": true,
   "sideBar": true,
   "skip_h1_title": false,
   "title_cell": "Table of Contents",
   "title_sidebar": "Contents",
   "toc_cell": false,
   "toc_position": {},
   "toc_section_display": true,
   "toc_window_display": false
  },
  "varInspector": {
   "cols": {
    "lenName": 16,
    "lenType": 16,
    "lenVar": 40
   },
   "kernels_config": {
    "python": {
     "delete_cmd_postfix": "",
     "delete_cmd_prefix": "del ",
     "library": "var_list.py",
     "varRefreshCmd": "print(var_dic_list())"
    },
    "r": {
     "delete_cmd_postfix": ") ",
     "delete_cmd_prefix": "rm(",
     "library": "var_list.r",
     "varRefreshCmd": "cat(var_dic_list()) "
    }
   },
   "types_to_exclude": [
    "module",
    "function",
    "builtin_function_or_method",
    "instance",
    "_Feature"
   ],
   "window_display": false
  }
 },
 "nbformat": 4,
 "nbformat_minor": 2
}
