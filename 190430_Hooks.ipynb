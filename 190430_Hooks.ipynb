{
 "cells": [
  {
   "cell_type": "code",
   "execution_count": 19,
   "metadata": {
    "ExecuteTime": {
     "end_time": "2019-05-01T18:55:09.906614Z",
     "start_time": "2019-05-01T18:55:09.902491Z"
    }
   },
   "outputs": [
    {
     "data": {
      "text/plain": [
       "'/Users/Bixing/Google Drive (by783@nyu.edu)/NYU_Courses/Sem2_DL_Proj/DL19_Final_Project'"
      ]
     },
     "execution_count": 19,
     "metadata": {},
     "output_type": "execute_result"
    }
   ],
   "source": [
    "%pwd"
   ]
  },
  {
   "cell_type": "code",
   "execution_count": 1,
   "metadata": {
    "ExecuteTime": {
     "end_time": "2019-05-01T18:50:34.534321Z",
     "start_time": "2019-05-01T18:50:34.118738Z"
    }
   },
   "outputs": [],
   "source": [
    "\n",
    "import torch\n",
    "import torch.nn as nn\n",
    "import torchvision"
   ]
  },
  {
   "cell_type": "code",
   "execution_count": 2,
   "metadata": {
    "ExecuteTime": {
     "end_time": "2019-05-01T18:50:34.540801Z",
     "start_time": "2019-05-01T18:50:34.535899Z"
    }
   },
   "outputs": [],
   "source": [
    "class TEST(torch.nn.Module):\n",
    "    def __init__(self):\n",
    "        super(TEST, self).__init__()\n",
    "        self.encoder=nn.Sequential(nn.Linear(1,1))\n",
    "        self.decoder=nn.Sequential(nn.Linear(1,1))\n",
    "        \n",
    "    def forward(self,x):\n",
    "        x=self.encoder(x)\n",
    "        x=self.decoder(x)\n",
    "        return x\n",
    "\n",
    "def Get_features(self, _input, _output):\n",
    "    print('print: input:',_input)\n",
    "    print('print: output:',_output)\n",
    "    #return output\n",
    "\n",
    "def Get_encoder_features(self, input_, output_):\n",
    "    encoder_output.append(output_)"
   ]
  },
  {
   "cell_type": "code",
   "execution_count": 3,
   "metadata": {
    "ExecuteTime": {
     "end_time": "2019-05-01T18:50:34.546817Z",
     "start_time": "2019-05-01T18:50:34.543922Z"
    }
   },
   "outputs": [],
   "source": [
    "x=torch.tensor([[1.0]])"
   ]
  },
  {
   "cell_type": "code",
   "execution_count": 4,
   "metadata": {
    "ExecuteTime": {
     "end_time": "2019-05-01T18:50:34.555401Z",
     "start_time": "2019-05-01T18:50:34.549847Z"
    }
   },
   "outputs": [],
   "source": [
    "model=TEST()\n",
    "\n",
    "# 如何重设 layer\n",
    "# https://discuss.pytorch.org/t/load-initial-weights-to-one-layer-of-the-convnet-manually/13336\n",
    "model.encoder[0].weight.data = torch.tensor([[2.0]])\n",
    "model.encoder[0].bias.data=torch.tensor([[0.0]])\n",
    "\n",
    "\n",
    "model.decoder[0].weight.data = torch.tensor([[3.0]])\n",
    "model.decoder[0].bias.data=torch.tensor([[0.0]])"
   ]
  },
  {
   "cell_type": "code",
   "execution_count": 5,
   "metadata": {
    "ExecuteTime": {
     "end_time": "2019-05-01T18:50:34.565419Z",
     "start_time": "2019-05-01T18:50:34.556727Z"
    }
   },
   "outputs": [
    {
     "data": {
      "text/plain": [
       "<torch.utils.hooks.RemovableHandle at 0x124d22b70>"
      ]
     },
     "execution_count": 5,
     "metadata": {},
     "output_type": "execute_result"
    }
   ],
   "source": [
    "encoder_output=[]\n",
    "model.encoder[0].register_forward_hook(Get_encoder_features)"
   ]
  },
  {
   "cell_type": "code",
   "execution_count": 6,
   "metadata": {
    "ExecuteTime": {
     "end_time": "2019-05-01T18:50:34.570270Z",
     "start_time": "2019-05-01T18:50:34.566992Z"
    }
   },
   "outputs": [],
   "source": [
    "l=model(x)"
   ]
  },
  {
   "cell_type": "code",
   "execution_count": 7,
   "metadata": {
    "ExecuteTime": {
     "end_time": "2019-05-01T18:50:34.575731Z",
     "start_time": "2019-05-01T18:50:34.571541Z"
    }
   },
   "outputs": [
    {
     "data": {
      "text/plain": [
       "[tensor([[2.]], grad_fn=<AddmmBackward>)]"
      ]
     },
     "execution_count": 7,
     "metadata": {},
     "output_type": "execute_result"
    }
   ],
   "source": [
    "encoder_output"
   ]
  },
  {
   "cell_type": "code",
   "execution_count": 8,
   "metadata": {
    "ExecuteTime": {
     "end_time": "2019-05-01T18:50:34.579865Z",
     "start_time": "2019-05-01T18:50:34.577202Z"
    }
   },
   "outputs": [],
   "source": [
    "l.backward()"
   ]
  },
  {
   "cell_type": "code",
   "execution_count": 9,
   "metadata": {
    "ExecuteTime": {
     "end_time": "2019-05-01T18:50:34.585467Z",
     "start_time": "2019-05-01T18:50:34.581082Z"
    }
   },
   "outputs": [
    {
     "data": {
      "text/plain": [
       "tensor([[3.]])"
      ]
     },
     "execution_count": 9,
     "metadata": {},
     "output_type": "execute_result"
    }
   ],
   "source": [
    "model.encoder[0].weight.grad"
   ]
  },
  {
   "cell_type": "code",
   "execution_count": 10,
   "metadata": {
    "ExecuteTime": {
     "end_time": "2019-05-01T18:50:34.590776Z",
     "start_time": "2019-05-01T18:50:34.586637Z"
    }
   },
   "outputs": [
    {
     "data": {
      "text/plain": [
       "tensor([[2.]])"
      ]
     },
     "execution_count": 10,
     "metadata": {},
     "output_type": "execute_result"
    }
   ],
   "source": [
    "model.decoder[0].weight.grad"
   ]
  },
  {
   "cell_type": "code",
   "execution_count": null,
   "metadata": {
    "ExecuteTime": {
     "end_time": "2019-05-01T18:46:33.117785Z",
     "start_time": "2019-05-01T18:46:33.113526Z"
    }
   },
   "outputs": [],
   "source": []
  },
  {
   "cell_type": "code",
   "execution_count": 11,
   "metadata": {
    "ExecuteTime": {
     "end_time": "2019-05-01T18:50:34.597681Z",
     "start_time": "2019-05-01T18:50:34.592870Z"
    }
   },
   "outputs": [],
   "source": [
    "model2=TEST()\n",
    "\n",
    "# 如何重设 layer\n",
    "# https://discuss.pytorch.org/t/load-initial-weights-to-one-layer-of-the-convnet-manually/13336\n",
    "model2.encoder[0].weight.data = torch.tensor([[2.0]])\n",
    "model2.encoder[0].bias.data=torch.tensor([[0.0]])\n",
    "\n",
    "\n",
    "model2.decoder[0].weight.data = torch.tensor([[3.0]])\n",
    "model2.decoder[0].bias.data=torch.tensor([[0.0]])"
   ]
  },
  {
   "cell_type": "code",
   "execution_count": 12,
   "metadata": {
    "ExecuteTime": {
     "end_time": "2019-05-01T18:50:34.603697Z",
     "start_time": "2019-05-01T18:50:34.599642Z"
    }
   },
   "outputs": [
    {
     "data": {
      "text/plain": [
       "<torch.utils.hooks.RemovableHandle at 0x124d27630>"
      ]
     },
     "execution_count": 12,
     "metadata": {},
     "output_type": "execute_result"
    }
   ],
   "source": [
    "encoder_output=[]\n",
    "model2.encoder[0].register_forward_hook(Get_encoder_features)"
   ]
  },
  {
   "cell_type": "code",
   "execution_count": 13,
   "metadata": {
    "ExecuteTime": {
     "end_time": "2019-05-01T18:50:34.607798Z",
     "start_time": "2019-05-01T18:50:34.605120Z"
    }
   },
   "outputs": [],
   "source": [
    "l=model2(x)"
   ]
  },
  {
   "cell_type": "code",
   "execution_count": 14,
   "metadata": {
    "ExecuteTime": {
     "end_time": "2019-05-01T18:50:34.612386Z",
     "start_time": "2019-05-01T18:50:34.609392Z"
    }
   },
   "outputs": [],
   "source": [
    "l=l+encoder_output[0]"
   ]
  },
  {
   "cell_type": "code",
   "execution_count": 15,
   "metadata": {
    "ExecuteTime": {
     "end_time": "2019-05-01T18:50:34.616590Z",
     "start_time": "2019-05-01T18:50:34.614046Z"
    }
   },
   "outputs": [],
   "source": [
    "l.backward()"
   ]
  },
  {
   "cell_type": "code",
   "execution_count": 16,
   "metadata": {
    "ExecuteTime": {
     "end_time": "2019-05-01T18:50:34.622728Z",
     "start_time": "2019-05-01T18:50:34.618220Z"
    }
   },
   "outputs": [
    {
     "data": {
      "text/plain": [
       "tensor([[4.]])"
      ]
     },
     "execution_count": 16,
     "metadata": {},
     "output_type": "execute_result"
    }
   ],
   "source": [
    "model2.encoder[0].weight.grad"
   ]
  },
  {
   "cell_type": "code",
   "execution_count": 17,
   "metadata": {
    "ExecuteTime": {
     "end_time": "2019-05-01T18:50:34.632746Z",
     "start_time": "2019-05-01T18:50:34.628498Z"
    }
   },
   "outputs": [
    {
     "data": {
      "text/plain": [
       "tensor([[2.]])"
      ]
     },
     "execution_count": 17,
     "metadata": {},
     "output_type": "execute_result"
    }
   ],
   "source": [
    "model2.decoder[0].weight.grad"
   ]
  },
  {
   "cell_type": "code",
   "execution_count": null,
   "metadata": {},
   "outputs": [],
   "source": []
  },
  {
   "cell_type": "code",
   "execution_count": 18,
   "metadata": {
    "ExecuteTime": {
     "end_time": "2019-05-01T18:50:34.771617Z",
     "start_time": "2019-05-01T18:50:34.636636Z"
    }
   },
   "outputs": [
    {
     "ename": "NameError",
     "evalue": "name 'xXXXXXXXXXX' is not defined",
     "output_type": "error",
     "traceback": [
      "\u001b[0;31m---------------------------------------------------------------------------\u001b[0m",
      "\u001b[0;31mNameError\u001b[0m                                 Traceback (most recent call last)",
      "\u001b[0;32m<ipython-input-18-0a62c2113efe>\u001b[0m in \u001b[0;36m<module>\u001b[0;34m\u001b[0m\n\u001b[0;32m----> 1\u001b[0;31m \u001b[0mxXXXXXXXXXX\u001b[0m\u001b[0;34m\u001b[0m\u001b[0;34m\u001b[0m\u001b[0m\n\u001b[0m",
      "\u001b[0;31mNameError\u001b[0m: name 'xXXXXXXXXXX' is not defined"
     ]
    }
   ],
   "source": [
    "xXXXXXXXXXX"
   ]
  },
  {
   "cell_type": "code",
   "execution_count": null,
   "metadata": {
    "ExecuteTime": {
     "end_time": "2019-05-01T18:50:34.781218Z",
     "start_time": "2019-05-01T18:50:34.130Z"
    }
   },
   "outputs": [],
   "source": [
    "en_output"
   ]
  },
  {
   "cell_type": "code",
   "execution_count": null,
   "metadata": {
    "ExecuteTime": {
     "end_time": "2019-05-01T16:51:38.158785Z",
     "start_time": "2019-05-01T16:51:38.155539Z"
    }
   },
   "outputs": [],
   "source": []
  },
  {
   "cell_type": "code",
   "execution_count": null,
   "metadata": {
    "ExecuteTime": {
     "end_time": "2019-05-01T18:50:34.781900Z",
     "start_time": "2019-05-01T18:50:34.132Z"
    }
   },
   "outputs": [],
   "source": [
    "model.encoder[0].weight.data"
   ]
  },
  {
   "cell_type": "code",
   "execution_count": null,
   "metadata": {
    "ExecuteTime": {
     "end_time": "2019-05-01T16:51:38.167235Z",
     "start_time": "2019-05-01T16:51:38.165616Z"
    }
   },
   "outputs": [],
   "source": []
  },
  {
   "cell_type": "code",
   "execution_count": null,
   "metadata": {
    "ExecuteTime": {
     "end_time": "2019-05-01T16:51:38.171297Z",
     "start_time": "2019-05-01T16:51:38.168872Z"
    }
   },
   "outputs": [],
   "source": []
  },
  {
   "cell_type": "code",
   "execution_count": null,
   "metadata": {
    "ExecuteTime": {
     "end_time": "2019-05-01T16:51:38.175203Z",
     "start_time": "2019-05-01T16:51:38.172586Z"
    }
   },
   "outputs": [],
   "source": []
  },
  {
   "cell_type": "code",
   "execution_count": null,
   "metadata": {
    "ExecuteTime": {
     "end_time": "2019-05-01T16:51:38.179803Z",
     "start_time": "2019-05-01T16:51:38.177013Z"
    }
   },
   "outputs": [],
   "source": []
  },
  {
   "cell_type": "code",
   "execution_count": null,
   "metadata": {
    "ExecuteTime": {
     "end_time": "2019-05-01T16:51:38.183315Z",
     "start_time": "2019-05-01T16:51:38.181016Z"
    }
   },
   "outputs": [],
   "source": []
  },
  {
   "cell_type": "code",
   "execution_count": null,
   "metadata": {
    "ExecuteTime": {
     "end_time": "2019-05-01T18:50:34.782888Z",
     "start_time": "2019-05-01T18:50:34.138Z"
    }
   },
   "outputs": [],
   "source": [
    "l=model(x)"
   ]
  },
  {
   "cell_type": "code",
   "execution_count": null,
   "metadata": {
    "ExecuteTime": {
     "end_time": "2019-05-01T18:50:34.783824Z",
     "start_time": "2019-05-01T18:50:34.139Z"
    }
   },
   "outputs": [],
   "source": [
    "l.backward()"
   ]
  },
  {
   "cell_type": "code",
   "execution_count": null,
   "metadata": {
    "ExecuteTime": {
     "end_time": "2019-05-01T18:50:34.784731Z",
     "start_time": "2019-05-01T18:50:34.140Z"
    }
   },
   "outputs": [],
   "source": [
    "model.decoder[0].weight.grad"
   ]
  },
  {
   "cell_type": "code",
   "execution_count": null,
   "metadata": {
    "ExecuteTime": {
     "end_time": "2019-05-01T18:50:34.785451Z",
     "start_time": "2019-05-01T18:50:34.143Z"
    }
   },
   "outputs": [],
   "source": [
    "de_layer=model.decoder[0]"
   ]
  },
  {
   "cell_type": "code",
   "execution_count": null,
   "metadata": {
    "ExecuteTime": {
     "end_time": "2019-05-01T18:50:34.786237Z",
     "start_time": "2019-05-01T18:50:34.144Z"
    }
   },
   "outputs": [],
   "source": [
    "en_layer=model.encoder[0]"
   ]
  },
  {
   "cell_type": "code",
   "execution_count": null,
   "metadata": {
    "ExecuteTime": {
     "end_time": "2019-05-01T18:50:34.787108Z",
     "start_time": "2019-05-01T18:50:34.146Z"
    }
   },
   "outputs": [],
   "source": [
    "\n",
    "de_layer.register_forward_hook(Get_features)"
   ]
  },
  {
   "cell_type": "code",
   "execution_count": null,
   "metadata": {
    "ExecuteTime": {
     "end_time": "2019-05-01T17:03:27.354305Z",
     "start_time": "2019-05-01T17:03:27.350851Z"
    }
   },
   "outputs": [],
   "source": []
  },
  {
   "cell_type": "code",
   "execution_count": null,
   "metadata": {
    "ExecuteTime": {
     "end_time": "2019-05-01T17:05:11.650477Z",
     "start_time": "2019-05-01T17:05:11.642418Z"
    }
   },
   "outputs": [],
   "source": []
  },
  {
   "cell_type": "code",
   "execution_count": null,
   "metadata": {
    "ExecuteTime": {
     "end_time": "2019-05-01T18:50:34.788271Z",
     "start_time": "2019-05-01T18:50:34.149Z"
    }
   },
   "outputs": [],
   "source": [
    "l=model(x)"
   ]
  },
  {
   "cell_type": "code",
   "execution_count": null,
   "metadata": {},
   "outputs": [],
   "source": []
  },
  {
   "cell_type": "code",
   "execution_count": null,
   "metadata": {},
   "outputs": [],
   "source": []
  }
 ],
 "metadata": {
  "kernelspec": {
   "display_name": "Python 3",
   "language": "python",
   "name": "python3"
  },
  "language_info": {
   "codemirror_mode": {
    "name": "ipython",
    "version": 3
   },
   "file_extension": ".py",
   "mimetype": "text/x-python",
   "name": "python",
   "nbconvert_exporter": "python",
   "pygments_lexer": "ipython3",
   "version": "3.7.2"
  },
  "toc": {
   "base_numbering": 1,
   "nav_menu": {},
   "number_sections": true,
   "sideBar": true,
   "skip_h1_title": false,
   "title_cell": "Table of Contents",
   "title_sidebar": "Contents",
   "toc_cell": false,
   "toc_position": {},
   "toc_section_display": true,
   "toc_window_display": false
  },
  "varInspector": {
   "cols": {
    "lenName": 16,
    "lenType": 16,
    "lenVar": 40
   },
   "kernels_config": {
    "python": {
     "delete_cmd_postfix": "",
     "delete_cmd_prefix": "del ",
     "library": "var_list.py",
     "varRefreshCmd": "print(var_dic_list())"
    },
    "r": {
     "delete_cmd_postfix": ") ",
     "delete_cmd_prefix": "rm(",
     "library": "var_list.r",
     "varRefreshCmd": "cat(var_dic_list()) "
    }
   },
   "types_to_exclude": [
    "module",
    "function",
    "builtin_function_or_method",
    "instance",
    "_Feature"
   ],
   "window_display": false
  }
 },
 "nbformat": 4,
 "nbformat_minor": 2
}
