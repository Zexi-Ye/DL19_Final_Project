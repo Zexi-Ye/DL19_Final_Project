{
 "cells": [
  {
   "cell_type": "markdown",
   "metadata": {},
   "source": [
    "# Output"
   ]
  },
  {
   "attachments": {
    "53ee78ae0b7b656299720a73aef7ad016cb952a0.png": {
     "image/png": "[encoded data removed]"
    }
   },
   "cell_type": "markdown",
   "metadata": {},
   "source": [
    "http://deeplearning.net/software/theano/tutorial/conv_arithmetic.html\n",
    "\n",
    "https://github.com/vlfeat/matconvnet/issues/1010\n",
    "\n",
    "dilation rate: d\n",
    "\n",
    "![53ee78ae0b7b656299720a73aef7ad016cb952a0.png](attachment:53ee78ae0b7b656299720a73aef7ad016cb952a0.png)"
   ]
  },
  {
   "cell_type": "code",
   "execution_count": 2,
   "metadata": {},
   "outputs": [],
   "source": [
    "def cal_osize(i=0,p=0,k=0,d=1,s=1):\n",
    "    '''\n",
    "    i: input\n",
    "    p: padding\n",
    "    k: kernal_size\n",
    "    d: dilation_rate\n",
    "    s: stride\n",
    "    '''\n",
    "    return (i+2*p-k-(k-1)*(d-1))/s+1"
   ]
  },
  {
   "cell_type": "markdown",
   "metadata": {},
   "source": [
    "### VGG-11"
   ]
  },
  {
   "cell_type": "code",
   "execution_count": 28,
   "metadata": {},
   "outputs": [],
   "source": [
    "def vgg_11_size_cal(image_size):\n",
    "    vgg_11_size_dict={}\n",
    "    vgg_11_size_dict['image_input']=image_size\n",
    "    vgg_11_size_dict['conv_1']=cal_osize(i=vgg_11_size_dict['image_input'],p=1,s=1,k=3)\n",
    "    vgg_11_size_dict['maxpool_conv_1']=cal_osize(i=vgg_11_size_dict['conv_1'],k=2,s=2,p=0,d=1)\n",
    "    vgg_11_size_dict['conv_2']=cal_osize(i=vgg_11_size_dict['maxpool_conv_1'],k=3,s=1,p=1)\n",
    "    vgg_11_size_dict['maxpool_conv_2']=cal_osize(i=vgg_11_size_dict['conv_2'],k=2,s=2,p=0,d=1)\n",
    "    vgg_11_size_dict['conv_3']=cal_osize(i=vgg_11_size_dict['maxpool_conv_2'],k=3,s=1,p=1)\n",
    "    vgg_11_size_dict['conv_4']=cal_osize(i=vgg_11_size_dict['conv_3'],k=3,s=1,p=1)\n",
    "    vgg_11_size_dict['maxpool_conv_4']=cal_osize(i=vgg_11_size_dict['conv_4'],k=2,s=2,p=0,d=1)\n",
    "    vgg_11_size_dict['conv_5']=cal_osize(i=vgg_11_size_dict['maxpool_conv_4'],k=3,s=1,p=1)\n",
    "    vgg_11_size_dict['conv_6']=cal_osize(i=vgg_11_size_dict['conv_5'],k=3,s=1,p=1)\n",
    "    vgg_11_size_dict['maxpool_conv_6']=cal_osize(i=vgg_11_size_dict['conv_6'],k=2,s=2,p=0,d=1)\n",
    "    vgg_11_size_dict['conv_7']=cal_osize(i=vgg_11_size_dict['maxpool_conv_6'],k=3,s=1,p=1)\n",
    "    vgg_11_size_dict['conv_8']=cal_osize(i=vgg_11_size_dict['conv_7'],k=3,s=1,p=1)\n",
    "    vgg_11_size_dict['maxpool_conv_8']=cal_osize(i=vgg_11_size_dict['conv_8'],k=2,s=2,p=0,d=1)\n",
    "\n",
    "    vgg_11_size_dict['fc_input'] = vgg_11_size_dict['maxpool_conv_8']**2*512 # 512 channels\n",
    "    return vgg_11_size_dict"
   ]
  },
  {
   "cell_type": "code",
   "execution_count": 35,
   "metadata": {},
   "outputs": [
    {
     "data": {
      "text/plain": [
       "{'image_input': 224,\n",
       " 'conv_1': 224.0,\n",
       " 'maxpool_conv_1': 112.0,\n",
       " 'conv_2': 112.0,\n",
       " 'maxpool_conv_2': 56.0,\n",
       " 'conv_3': 56.0,\n",
       " 'conv_4': 56.0,\n",
       " 'maxpool_conv_4': 28.0,\n",
       " 'conv_5': 28.0,\n",
       " 'conv_6': 28.0,\n",
       " 'maxpool_conv_6': 14.0,\n",
       " 'conv_7': 14.0,\n",
       " 'conv_8': 14.0,\n",
       " 'maxpool_conv_8': 7.0,\n",
       " 'fc_input': 25088.0}"
      ]
     },
     "execution_count": 35,
     "metadata": {},
     "output_type": "execute_result"
    }
   ],
   "source": [
    "vgg_11_size_cal(224)"
   ]
  },
  {
   "cell_type": "code",
   "execution_count": 33,
   "metadata": {},
   "outputs": [
    {
     "data": {
      "text/plain": [
       "{'image_input': 96,\n",
       " 'conv_1': 96.0,\n",
       " 'maxpool_conv_1': 48.0,\n",
       " 'conv_2': 48.0,\n",
       " 'maxpool_conv_2': 24.0,\n",
       " 'conv_3': 24.0,\n",
       " 'conv_4': 24.0,\n",
       " 'maxpool_conv_4': 12.0,\n",
       " 'conv_5': 12.0,\n",
       " 'conv_6': 12.0,\n",
       " 'maxpool_conv_6': 6.0,\n",
       " 'conv_7': 6.0,\n",
       " 'conv_8': 6.0,\n",
       " 'maxpool_conv_8': 3.0,\n",
       " 'fc_input': 4608.0}"
      ]
     },
     "execution_count": 33,
     "metadata": {},
     "output_type": "execute_result"
    }
   ],
   "source": [
    "vgg_11_size_cal(96)"
   ]
  },
  {
   "cell_type": "code",
   "execution_count": 34,
   "metadata": {},
   "outputs": [
    {
     "data": {
      "text/plain": [
       "2.3333333333333335"
      ]
     },
     "execution_count": 34,
     "metadata": {},
     "output_type": "execute_result"
    }
   ],
   "source": [
    "224/96"
   ]
  },
  {
   "cell_type": "code",
   "execution_count": null,
   "metadata": {},
   "outputs": [],
   "source": []
  },
  {
   "cell_type": "code",
   "execution_count": null,
   "metadata": {},
   "outputs": [],
   "source": []
  }
 ],
 "metadata": {
  "kernelspec": {
   "display_name": "Python 3",
   "language": "python",
   "name": "python3"
  },
  "language_info": {
   "codemirror_mode": {
    "name": "ipython",
    "version": 3
   },
   "file_extension": ".py",
   "mimetype": "text/x-python",
   "name": "python",
   "nbconvert_exporter": "python",
   "pygments_lexer": "ipython3",
   "version": "3.6.3"
  }
 },
 "nbformat": 4,
 "nbformat_minor": 2
}
